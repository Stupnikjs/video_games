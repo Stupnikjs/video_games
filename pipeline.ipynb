{
 "cells": [
  {
   "cell_type": "code",
   "execution_count": 5,
   "metadata": {},
   "outputs": [],
   "source": [
    "import os\n",
    "from mongo_connect import load_client\n",
    "import pandas as pd \n",
    "from pandas_gbq import to_gbq\n",
    "import google.auth\n",
    "\n",
    "client = load_client()\n",
    "CURR_DIR = os.getcwd()\n",
    "\n",
    "db = client.get_database('Cluster0')\n",
    "col = db.get_collection('games_rating')\n",
    "\n",
    "\n",
    "\n"
   ]
  },
  {
   "cell_type": "code",
   "execution_count": 9,
   "metadata": {},
   "outputs": [
    {
     "name": "stdout",
     "output_type": "stream",
     "text": [
      "<class 'pendulum.datetime.DateTime'>\n",
      "2014-07-01 00:00:00\n"
     ]
    }
   ],
   "source": [
    "import datetime\n",
    "import calendar\n",
    "import pendulum \n",
    "\n",
    "\n",
    "custom_date = pendulum.datetime(2015,1,1,tz='America/Toronto')\n",
    "print(type(custom_date))\n",
    "def six_mounth_ago(custom_date): \n",
    "\n",
    "    curr_month = custom_date.month\n",
    "    curr_day = custom_date.day\n",
    "\n",
    "    months = []\n",
    "    for i in range(7): \n",
    "        months.append(curr_month)\n",
    "        if curr_month != 1:\n",
    "            curr_month -= 1\n",
    "        else:\n",
    "            curr_month = 12\n",
    "\n",
    "    day_count = []\n",
    "    for i in months: \n",
    "        num_days = calendar.monthrange(custom_date.year, i)[1]\n",
    "        day_count.append(num_days)\n",
    "\n",
    "    last_year = months[0] < months[-1]\n",
    "\n",
    "    if last_year: \n",
    "        six_mounth_ago = datetime.datetime(custom_date.year - 1, months[-1], custom_date.day)\n",
    "    else:\n",
    "        six_mounth_ago = datetime.datetime(custom_date.year, months[-1], custom_date.day)\n",
    "\n",
    "    print(six_mounth_ago)\n",
    "    six_mounth_ago_unix = six_mounth_ago.timestamp()\n",
    "\n",
    "    return six_mounth_ago_unix\n",
    "\n",
    "six_mounth_ago_unix = six_mounth_ago(custom_date)\n",
    "\n"
   ]
  },
  {
   "cell_type": "code",
   "execution_count": 18,
   "metadata": {},
   "outputs": [
    {
     "name": "stdout",
     "output_type": "stream",
     "text": [
      "1404165600.0\n",
      "2018-09-07 02:00:00\n"
     ]
    }
   ],
   "source": [
    "print(six_mounth_ago_unix)\n",
    "result = col.find({'unixReviewTime': {'$gt': six_mounth_ago_unix}})\n",
    "\n",
    "documents = list(result)\n",
    "df = pd.DataFrame(documents)\n",
    "\n",
    "print(datetime.datetime.fromtimestamp(1536278400))\n"
   ]
  },
  {
   "cell_type": "code",
   "execution_count": null,
   "metadata": {},
   "outputs": [],
   "source": [
    "# df = df.drop(columns=['image', 'style', 'reviewText', 'summary'])\n",
    "\n",
    "datetime.datetime.fromtimestamp(df['unixReviewTime'].head(1)[0])\n"
   ]
  },
  {
   "cell_type": "code",
   "execution_count": null,
   "metadata": {},
   "outputs": [],
   "source": [
    "df['average_overall'] = df.groupby(by='asin')['overall'] \\\n",
    "            .transform('mean')\n",
    "\n",
    "# find 15 best games \n",
    "df_best_15 = df.sort_values(by='average_overall', ascending=False).drop_duplicates('asin').head(15)\n",
    "\n",
    "\n",
    "df_best_15.head(5)"
   ]
  },
  {
   "cell_type": "code",
   "execution_count": 4,
   "metadata": {},
   "outputs": [
    {
     "ename": "NameError",
     "evalue": "name 'df' is not defined",
     "output_type": "error",
     "traceback": [
      "\u001b[1;31m---------------------------------------------------------------------------\u001b[0m",
      "\u001b[1;31mNameError\u001b[0m                                 Traceback (most recent call last)",
      "Cell \u001b[1;32mIn[4], line 1\u001b[0m\n\u001b[1;32m----> 1\u001b[0m df[\u001b[38;5;124m'\u001b[39m\u001b[38;5;124mgame_id\u001b[39m\u001b[38;5;124m'\u001b[39m] \u001b[38;5;241m=\u001b[39m \u001b[43mdf\u001b[49m[\u001b[38;5;124m'\u001b[39m\u001b[38;5;124masin\u001b[39m\u001b[38;5;124m'\u001b[39m] \n\u001b[0;32m      2\u001b[0m df[\u001b[38;5;124m'\u001b[39m\u001b[38;5;124mavg_note\u001b[39m\u001b[38;5;124m'\u001b[39m] \u001b[38;5;241m=\u001b[39m df[\u001b[38;5;124m'\u001b[39m\u001b[38;5;124maverage_overall\u001b[39m\u001b[38;5;124m'\u001b[39m]\n\u001b[0;32m      3\u001b[0m df[\u001b[38;5;124m'\u001b[39m\u001b[38;5;124muser_note\u001b[39m\u001b[38;5;124m'\u001b[39m] \u001b[38;5;241m=\u001b[39m df[\u001b[38;5;124m'\u001b[39m\u001b[38;5;124moverall\u001b[39m\u001b[38;5;124m'\u001b[39m]\n",
      "\u001b[1;31mNameError\u001b[0m: name 'df' is not defined"
     ]
    }
   ],
   "source": [
    "df['game_id'] = df['asin'] \n",
    "df['avg_note'] = df['average_overall']\n",
    "df['user_note'] = df['overall']\n",
    "df['real_date'] = df['unixReviewTime'].apply(datetime.datetime.fromtimestamp)\n",
    "df['latest_note'] = df.groupby('asin')['unixReviewTime'].transform('max').astype(int)\n",
    "df['oldest_note'] = df.groupby('asin')['unixReviewTime'].transform('min').astype(int)\n",
    "\n",
    "to_drop = [col for col in df.columns if col not in ['game_id', 'avg_note', 'user_note', 'latest_note', 'oldest_note', 'real_date']]\n",
    "\n",
    "print(to_drop)\n",
    "df.drop(columns=to_drop, inplace=True)\n",
    "\n",
    "\n"
   ]
  },
  {
   "cell_type": "code",
   "execution_count": null,
   "metadata": {},
   "outputs": [],
   "source": [
    "df.tail()"
   ]
  },
  {
   "cell_type": "code",
   "execution_count": null,
   "metadata": {},
   "outputs": [],
   "source": [
    "\n",
    "\"\"\"\n",
    "df['latest_note_date'] = pd.to_datetime(df['latest_note']).dt.date\n",
    "df['oldest_note_date'] = pd.to_datetime(df['oldest_note']).dt.date\n",
    "df.head()\n",
    "\"\"\""
   ]
  },
  {
   "cell_type": "code",
   "execution_count": null,
   "metadata": {},
   "outputs": [],
   "source": [
    "df['user_note'] = df['user_note'].astype(int)\n",
    "df['game_id'] = (df['game_id'].astype('category').cat.codes + 1).astype(int)\n",
    "\n",
    "df['latest_note'] = df['latest_note'].apply(lambda x: pd.to_datetime(x))\n",
    "df['oldest_note'] = df['oldest_note'].apply(lambda x: pd.to_datetime(x))\n",
    "\n",
    "df['latest_note_sql'] = df['latest_note'].dt.strftime('%Y-%m-%d')\n",
    "df['oldest_note_sql'] = df['oldest_note'].dt.strftime('%Y-%m-%d')\n",
    "\n",
    "df.head()"
   ]
  },
  {
   "cell_type": "code",
   "execution_count": null,
   "metadata": {},
   "outputs": [],
   "source": [
    "import os\n",
    "os.environ[\"GOOGLE_APPLICATION_CREDENTIALS\"] = \"google_credentials.json\"\n",
    "\n",
    "credentials, project_id = google.auth.default()\n",
    "\n",
    "to_gbq(df, 'dengineer-413113.datalake.video_games', project_id='dengineer-413113', credentials=credentials)"
   ]
  }
 ],
 "metadata": {
  "kernelspec": {
   "display_name": ".venv",
   "language": "python",
   "name": "python3"
  },
  "language_info": {
   "codemirror_mode": {
    "name": "ipython",
    "version": 3
   },
   "file_extension": ".py",
   "mimetype": "text/x-python",
   "name": "python",
   "nbconvert_exporter": "python",
   "pygments_lexer": "ipython3",
   "version": "3.11.5"
  }
 },
 "nbformat": 4,
 "nbformat_minor": 2
}
