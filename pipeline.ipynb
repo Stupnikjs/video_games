{
 "cells": [
  {
   "cell_type": "code",
   "execution_count": 6,
   "metadata": {},
   "outputs": [
    {
     "name": "stdout",
     "output_type": "stream",
     "text": [
      "Database(MongoClient(host=['ac-2whhhnb-shard-00-00.oiowsz6.mongodb.net:27017', 'ac-2whhhnb-shard-00-01.oiowsz6.mongodb.net:27017', 'ac-2whhhnb-shard-00-02.oiowsz6.mongodb.net:27017'], document_class=dict, tz_aware=False, connect=True, retrywrites=True, w='majority', appname='Cluster0', authsource='admin', replicaset='atlas-4yq3is-shard-0', tls=True, server_api=<pymongo.server_api.ServerApi object at 0x0000022FB4EF0DD0>), 'Cluster0')\n"
     ]
    }
   ],
   "source": [
    "import os\n",
    "from mongo_connect import load_client\n",
    "\n",
    "client = load_client()\n",
    "CURR_DIR = os.getcwd()\n",
    "\n",
    "db = client.get_database('Cluster0')\n",
    "col = db.get_collection('games_rating')\n",
    "\n",
    "\n",
    "\n"
   ]
  },
  {
   "cell_type": "code",
   "execution_count": 32,
   "metadata": {},
   "outputs": [
    {
     "name": "stdout",
     "output_type": "stream",
     "text": [
      "[3, 2, 1, 12, 11, 10, 9]\n",
      "[31, 29, 31, 31, 30, 31, 30]\n",
      "10\n",
      "2023-09-10 00:00:00\n"
     ]
    }
   ],
   "source": [
    "import datetime\n",
    "import calendar\n",
    "\n",
    "curr_month = datetime.datetime.now().month\n",
    "curr_day = datetime.datetime.now().day\n",
    "\n",
    "months = []\n",
    "for i in range(7): \n",
    "    months.append(curr_month)\n",
    "    if curr_month != 1:\n",
    "        curr_month -= 1\n",
    "    else:\n",
    "        curr_month = 12\n",
    "\n",
    "day_count = []\n",
    "for i in months: \n",
    "    num_days = calendar.monthrange(datetime.datetime.now().year, i)[1]\n",
    "    day_count.append(num_days)\n",
    "print(months)\n",
    "print(day_count)\n",
    "print(curr_day)\n",
    "\n",
    "last_year = months[0] < months[-1]\n",
    "\n",
    "if last_year: \n",
    "    six_mounth_ago = datetime.datetime(datetime.datetime.now().year - 1, months[-1], datetime.datetime.now().day)\n",
    "else:\n",
    "    six_mounth_ago = datetime.datetime(datetime.datetime.now().year, months[-1], datetime.datetime.now().day)\n",
    "\n",
    "# gerer le cas ou le jour est 31 ou 30 et n'existe pas dans le mois d'il ya 6mois\n",
    "\n",
    "print(six_mounth_ago)"
   ]
  }
 ],
 "metadata": {
  "kernelspec": {
   "display_name": ".venv",
   "language": "python",
   "name": "python3"
  },
  "language_info": {
   "codemirror_mode": {
    "name": "ipython",
    "version": 3
   },
   "file_extension": ".py",
   "mimetype": "text/x-python",
   "name": "python",
   "nbconvert_exporter": "python",
   "pygments_lexer": "ipython3",
   "version": "3.11.5"
  }
 },
 "nbformat": 4,
 "nbformat_minor": 2
}
